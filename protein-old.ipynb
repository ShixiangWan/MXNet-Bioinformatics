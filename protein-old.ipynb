{
 "cells": [
  {
   "cell_type": "markdown",
   "metadata": {
    "deletable": true,
    "editable": true
   },
   "source": [
    "#### 考察原先的fasta数据（CD-HIT之后与之前的效果）"
   ]
  },
  {
   "cell_type": "code",
   "execution_count": 60,
   "metadata": {
    "collapsed": false,
    "deletable": true,
    "editable": true
   },
   "outputs": [],
   "source": [
    "import csv\n",
    "import time\n",
    "import numpy as np\n",
    "import pandas as pd\n",
    "\n",
    "import xgboost as xgb\n",
    "from sklearn import model_selection, preprocessing, cross_validation, metrics\n",
    "from sklearn import ensemble\n",
    "from xgboost import XGBClassifier\n",
    "\n",
    "from imblearn import combine\n",
    "from imblearn import ensemble\n",
    "from imblearn import over_sampling\n",
    "from imblearn import under_sampling\n",
    "\n",
    "%matplotlib inline\n",
    "from matplotlib import pyplot\n",
    "from collections import Counter\n",
    "\n",
    "import MySQLdb\n",
    "from sqlalchemy import create_engine\n",
    "\n",
    "\n",
    "def draw(df, feature, isPrint=False, isTen=True):\n",
    "    letter_counts = Counter(df[feature].values)\n",
    "    print 'Total number:', len(letter_counts)\n",
    "    lc_dict = dict(letter_counts)\n",
    "    lc_dict = sorted(lc_dict.iteritems(), key=lambda d:d[1], reverse = True)\n",
    "    df = pd.DataFrame.from_dict(lc_dict)\n",
    "    df.columns = ['name', 'count']\n",
    "    df.plot(x='name', y='count', kind='bar')\n",
    "    if isPrint:\n",
    "        if isTen:\n",
    "            return df[:10]\n",
    "        else:\n",
    "            return df"
   ]
  },
  {
   "cell_type": "code",
   "execution_count": 3,
   "metadata": {
    "collapsed": false,
    "deletable": true,
    "editable": true
   },
   "outputs": [],
   "source": [
    "name = []\n",
    "value = []\n",
    "count = 0\n",
    "RNA_all = open('data/RNA-all-long-CD-HIT.fasta')\n",
    "for line in RNA_all:\n",
    "    if line[0] == '>':\n",
    "        count += 1\n",
    "        label = ','.join(line.strip(\"\\r\\n\").split(',')[1])\n",
    "        name_label = '>seq'+str(count)+','+label\n",
    "        name.append(name_label.split(','))\n",
    "    else:\n",
    "        value.append('\\n'+line.strip(\"\\r\\n\"))\n",
    "RNA_all.close()"
   ]
  },
  {
   "cell_type": "code",
   "execution_count": 4,
   "metadata": {
    "collapsed": false,
    "deletable": true,
    "editable": true
   },
   "outputs": [
    {
     "data": {
      "text/html": [
       "<div>\n",
       "<table border=\"1\" class=\"dataframe\">\n",
       "  <thead>\n",
       "    <tr style=\"text-align: right;\">\n",
       "      <th></th>\n",
       "      <th>seq_name</th>\n",
       "      <th>Anterior</th>\n",
       "      <th>Apical</th>\n",
       "      <th>Axon</th>\n",
       "      <th>Basal</th>\n",
       "      <th>Cell body</th>\n",
       "      <th>Cell cortex</th>\n",
       "      <th>Cell junction</th>\n",
       "      <th>Cell leading edge</th>\n",
       "      <th>Cellular bud</th>\n",
       "      <th>...</th>\n",
       "      <th>Nucleus</th>\n",
       "      <th>Perinuclear</th>\n",
       "      <th>Peroxisome</th>\n",
       "      <th>Posterior</th>\n",
       "      <th>Pseudopodium</th>\n",
       "      <th>Ribosome</th>\n",
       "      <th>Somatodendritic compartment</th>\n",
       "      <th>Synapse</th>\n",
       "      <th>Vegetal</th>\n",
       "      <th>seq_value</th>\n",
       "    </tr>\n",
       "  </thead>\n",
       "  <tbody>\n",
       "    <tr>\n",
       "      <th>0</th>\n",
       "      <td>&gt;seq1</td>\n",
       "      <td>0</td>\n",
       "      <td>0</td>\n",
       "      <td>0</td>\n",
       "      <td>0</td>\n",
       "      <td>0</td>\n",
       "      <td>0</td>\n",
       "      <td>0</td>\n",
       "      <td>0</td>\n",
       "      <td>0</td>\n",
       "      <td>...</td>\n",
       "      <td>0</td>\n",
       "      <td>0</td>\n",
       "      <td>0</td>\n",
       "      <td>0</td>\n",
       "      <td>0</td>\n",
       "      <td>1</td>\n",
       "      <td>0</td>\n",
       "      <td>0</td>\n",
       "      <td>0</td>\n",
       "      <td>\\nGCUGAGUCAUCACUAGAGAGUGGGAAGGGCAGCAGCAGCAGAGA...</td>\n",
       "    </tr>\n",
       "    <tr>\n",
       "      <th>1</th>\n",
       "      <td>&gt;seq2</td>\n",
       "      <td>0</td>\n",
       "      <td>0</td>\n",
       "      <td>0</td>\n",
       "      <td>0</td>\n",
       "      <td>0</td>\n",
       "      <td>0</td>\n",
       "      <td>0</td>\n",
       "      <td>0</td>\n",
       "      <td>0</td>\n",
       "      <td>...</td>\n",
       "      <td>0</td>\n",
       "      <td>0</td>\n",
       "      <td>0</td>\n",
       "      <td>0</td>\n",
       "      <td>0</td>\n",
       "      <td>1</td>\n",
       "      <td>0</td>\n",
       "      <td>0</td>\n",
       "      <td>0</td>\n",
       "      <td>\\nAUAAAGCUGAGACGCACCAGUCACCGACACAACUCCAGCCAUGG...</td>\n",
       "    </tr>\n",
       "    <tr>\n",
       "      <th>2</th>\n",
       "      <td>&gt;seq3</td>\n",
       "      <td>0</td>\n",
       "      <td>0</td>\n",
       "      <td>0</td>\n",
       "      <td>0</td>\n",
       "      <td>0</td>\n",
       "      <td>0</td>\n",
       "      <td>0</td>\n",
       "      <td>0</td>\n",
       "      <td>0</td>\n",
       "      <td>...</td>\n",
       "      <td>0</td>\n",
       "      <td>0</td>\n",
       "      <td>0</td>\n",
       "      <td>0</td>\n",
       "      <td>0</td>\n",
       "      <td>1</td>\n",
       "      <td>0</td>\n",
       "      <td>0</td>\n",
       "      <td>0</td>\n",
       "      <td>\\nCGCGACCUCAGAUCAGACGUGGCGACCCGCUGAAUUUAAGCAUA...</td>\n",
       "    </tr>\n",
       "    <tr>\n",
       "      <th>3</th>\n",
       "      <td>&gt;seq4</td>\n",
       "      <td>0</td>\n",
       "      <td>0</td>\n",
       "      <td>0</td>\n",
       "      <td>0</td>\n",
       "      <td>0</td>\n",
       "      <td>0</td>\n",
       "      <td>0</td>\n",
       "      <td>0</td>\n",
       "      <td>0</td>\n",
       "      <td>...</td>\n",
       "      <td>0</td>\n",
       "      <td>0</td>\n",
       "      <td>0</td>\n",
       "      <td>0</td>\n",
       "      <td>0</td>\n",
       "      <td>1</td>\n",
       "      <td>0</td>\n",
       "      <td>0</td>\n",
       "      <td>0</td>\n",
       "      <td>\\nAGGCUUACGUUUACUUUGCGCCGGAAAGAGAACCUGUAAACGCU...</td>\n",
       "    </tr>\n",
       "    <tr>\n",
       "      <th>4</th>\n",
       "      <td>&gt;seq5</td>\n",
       "      <td>0</td>\n",
       "      <td>0</td>\n",
       "      <td>0</td>\n",
       "      <td>0</td>\n",
       "      <td>0</td>\n",
       "      <td>0</td>\n",
       "      <td>0</td>\n",
       "      <td>0</td>\n",
       "      <td>0</td>\n",
       "      <td>...</td>\n",
       "      <td>0</td>\n",
       "      <td>0</td>\n",
       "      <td>0</td>\n",
       "      <td>0</td>\n",
       "      <td>0</td>\n",
       "      <td>1</td>\n",
       "      <td>0</td>\n",
       "      <td>0</td>\n",
       "      <td>0</td>\n",
       "      <td>\\nAAGAUUUAGGCAUCCUCUUACACUGCUGGGAAAUAUCAGUGUGA...</td>\n",
       "    </tr>\n",
       "  </tbody>\n",
       "</table>\n",
       "<p>5 rows × 41 columns</p>\n",
       "</div>"
      ],
      "text/plain": [
       "  seq_name Anterior Apical Axon Basal Cell body Cell cortex Cell junction  \\\n",
       "0    >seq1        0      0    0     0         0           0             0   \n",
       "1    >seq2        0      0    0     0         0           0             0   \n",
       "2    >seq3        0      0    0     0         0           0             0   \n",
       "3    >seq4        0      0    0     0         0           0             0   \n",
       "4    >seq5        0      0    0     0         0           0             0   \n",
       "\n",
       "  Cell leading edge Cellular bud  \\\n",
       "0                 0            0   \n",
       "1                 0            0   \n",
       "2                 0            0   \n",
       "3                 0            0   \n",
       "4                 0            0   \n",
       "\n",
       "                         ...                         Nucleus Perinuclear  \\\n",
       "0                        ...                               0           0   \n",
       "1                        ...                               0           0   \n",
       "2                        ...                               0           0   \n",
       "3                        ...                               0           0   \n",
       "4                        ...                               0           0   \n",
       "\n",
       "  Peroxisome Posterior Pseudopodium Ribosome Somatodendritic compartment  \\\n",
       "0          0         0            0        1                           0   \n",
       "1          0         0            0        1                           0   \n",
       "2          0         0            0        1                           0   \n",
       "3          0         0            0        1                           0   \n",
       "4          0         0            0        1                           0   \n",
       "\n",
       "  Synapse Vegetal                                          seq_value  \n",
       "0       0       0  \\nGCUGAGUCAUCACUAGAGAGUGGGAAGGGCAGCAGCAGCAGAGA...  \n",
       "1       0       0  \\nAUAAAGCUGAGACGCACCAGUCACCGACACAACUCCAGCCAUGG...  \n",
       "2       0       0  \\nCGCGACCUCAGAUCAGACGUGGCGACCCGCUGAAUUUAAGCAUA...  \n",
       "3       0       0  \\nAGGCUUACGUUUACUUUGCGCCGGAAAGAGAACCUGUAAACGCU...  \n",
       "4       0       0  \\nAAGAUUUAGGCAUCCUCUUACACUGCUGGGAAAUAUCAGUGUGA...  \n",
       "\n",
       "[5 rows x 41 columns]"
      ]
     },
     "execution_count": 4,
     "metadata": {},
     "output_type": "execute_result"
    }
   ],
   "source": [
    "name_list = [line.strip() for line in open('data/labels-39-names.txt')][:39]\n",
    "name_list.insert(0, 'seq_name')\n",
    "RNA_all_df = pd.concat([pd.DataFrame(np.array(name), columns=name_list), pd.DataFrame(np.array(value), columns=['seq_value'])], axis=1)\n",
    "RNA_all_df[0:5]"
   ]
  },
  {
   "cell_type": "code",
   "execution_count": 95,
   "metadata": {
    "collapsed": false,
    "deletable": true,
    "editable": true
   },
   "outputs": [],
   "source": [
    "from matplotlib import pyplot\n",
    "from collections import Counter\n",
    "    \n",
    "def get_new_df():\n",
    "    df = RNA_all_df.loc[:, ['seq_name', 'Cytosol', 'Endoplasmic reticulum', 'Exosome', 'Nucleus', 'Ribosome', 'seq_value']]\n",
    "    return df\n",
    "\n",
    "def write_fasta(df, file_path):\n",
    "    # df = pd.DataFrame([[1, '\\nabs'], [1, '\\nabs']])\n",
    "    df.to_csv(file_path, quoting=csv.QUOTE_NONE, escapechar=' ',header=False, index=False)\n",
    "\n",
    "def write_fea(df, file_path):\n",
    "    df = df.loc[:, ['Cytosol', 'Endoplasmic reticulum', 'Exosome','Nucleus', 'Ribosome']]\n",
    "    df.to_csv(file_path, quoting=csv.QUOTE_NONE, escapechar=' ',header=False, index=False)\n",
    "\n",
    "write_fasta(get_new_df(), 'data/RNA-all-choosed.fasta')"
   ]
  },
  {
   "cell_type": "code",
   "execution_count": 26,
   "metadata": {
    "collapsed": false,
    "deletable": true,
    "editable": true
   },
   "outputs": [],
   "source": [
    "!python /home01/shixiangwan/softwares/pse-in-one/Pse-in-One/pse.py data/RNA-all-long.fasta data/fea/RNA-all-long-Pse.csv RNA PC-PseDNC-General -f csv"
   ]
  },
  {
   "cell_type": "code",
   "execution_count": 47,
   "metadata": {
    "collapsed": false,
    "deletable": true,
    "editable": true
   },
   "outputs": [
    {
     "data": {
      "text/plain": [
       "33470"
      ]
     },
     "execution_count": 47,
     "metadata": {},
     "output_type": "execute_result"
    }
   ],
   "source": [
    "len(labels)"
   ]
  },
  {
   "cell_type": "code",
   "execution_count": 53,
   "metadata": {
    "collapsed": false,
    "deletable": true,
    "editable": true
   },
   "outputs": [
    {
     "name": "stdout",
     "output_type": "stream",
     "text": [
      "(33470, 18)\n",
      "(33470, 39)\n"
     ]
    }
   ],
   "source": [
    "# feature = '/home01/shixiangwan/softwares/pse-in-one/Pse-in-One/data/RNA-all-choosed-out.csv'\n",
    "# label_df = RNA_all_df.iloc[:, 1:40]\n",
    "feature_df = pd.read_csv('data/fea/RNA-all-long-Pse.csv', header=None)\n",
    "labels = [map(int, list(l.strip().split(',')[1])) for l in open(\"data/RNA-all-long.fasta\") if l[0] == '>']\n",
    "name_list = [line.strip() for line in open('data/labels-39-names.txt')][:39]\n",
    "label_df = pd.DataFrame(labels, columns=name_list)\n",
    "\n",
    "print feature_df.shape\n",
    "print label_df.shape"
   ]
  },
  {
   "cell_type": "code",
   "execution_count": 55,
   "metadata": {
    "collapsed": false,
    "deletable": true,
    "editable": true
   },
   "outputs": [
    {
     "data": {
      "text/plain": [
       "Counter({0: 24493, 1: 8977})"
      ]
     },
     "execution_count": 55,
     "metadata": {},
     "output_type": "execute_result"
    }
   ],
   "source": [
    "label_list = ['Nucleus', 'Cytosol', 'Endoplasmic reticulum', 'Exosome', 'Ribosome', 'Extracellular vesicle', 'Cytoplasm', 'Nucleolus']\n",
    "Counter(label_df['Cytoplasm'])"
   ]
  },
  {
   "cell_type": "code",
   "execution_count": 59,
   "metadata": {
    "collapsed": false,
    "deletable": true,
    "editable": true
   },
   "outputs": [
    {
     "name": "stdout",
     "output_type": "stream",
     "text": [
      "Thu Jun  1 14:46:53 2017 交叉验证 ...\n",
      "Thu Jun  1 14:46:53 2017 >> Nucleus {0: 21833, 1: 11637}\n",
      "Thu Jun  1 14:48:23 2017 >> cross-validate: f1_score: 0.546328198805 accuracy_score: 0.508178844937\n",
      "Thu Jun  1 14:48:23 2017 >> Cytosol {0: 25236, 1: 8234}\n",
      "Thu Jun  1 14:49:54 2017 >> cross-validate: f1_score: 0.576441848788 accuracy_score: 0.575751846876\n",
      "Thu Jun  1 14:49:54 2017 >> Endoplasmic reticulum {0: 30548, 1: 2922}\n",
      "Thu Jun  1 14:51:24 2017 >> cross-validate: f1_score: 0.673392165048 accuracy_score: 0.637816675724\n",
      "Thu Jun  1 14:51:24 2017 >> Exosome {0: 30622, 1: 2848}\n",
      "Thu Jun  1 14:52:55 2017 >> cross-validate: f1_score: 0.670839876471 accuracy_score: 0.638266840504\n",
      "Thu Jun  1 14:52:55 2017 >> Ribosome {0: 20145, 1: 13325}\n",
      "Thu Jun  1 14:54:26 2017 >> cross-validate: f1_score: 0.537211812239 accuracy_score: 0.534313699882\n",
      "Thu Jun  1 14:54:26 2017 >> Extracellular vesicle {0: 33470}\n"
     ]
    },
    {
     "name": "stderr",
     "output_type": "stream",
     "text": [
      "/usr/local/lib/python2.7/dist-packages/imblearn/base.py:100: UserWarning: Only one class detected, something will get wrong\n",
      "  warnings.warn('Only one class detected, something will get wrong')\n"
     ]
    },
    {
     "name": "stdout",
     "output_type": "stream",
     "text": [
      "Thu Jun  1 14:55:09 2017 >> cross-validate: f1_score: 0.0 accuracy_score: 1.0\n",
      "Thu Jun  1 14:55:09 2017 >> Cytoplasm {0: 24493, 1: 8977}\n",
      "Thu Jun  1 14:56:38 2017 >> cross-validate: f1_score: 0.579436050494 accuracy_score: 0.523684735961\n",
      "Thu Jun  1 14:56:38 2017 >> Nucleolus {0: 33461, 1: 9}\n",
      "Thu Jun  1 14:58:05 2017 >> cross-validate: f1_score: 0.998910823394 accuracy_score: 0.998909212218\n"
     ]
    }
   ],
   "source": [
    "print time.ctime(), '交叉验证 ...'\n",
    "clf = XGBClassifier() # n_estimators=600, subsample=0.7\n",
    "# clf = ensemble.AdaBoostClassifier()\n",
    "# clf = ensemble.RandomForestClassifier()\n",
    "\n",
    "### train feature dataset\n",
    "train = feature_df\n",
    "\n",
    "for lab in label_list:\n",
    "    label = label_df[lab]\n",
    "    print time.ctime(), '>>', lab, dict(Counter(label))\n",
    "\n",
    "    try:\n",
    "        sm = SMOTE(random_state=42)\n",
    "        train_res, label_res = sm.fit_sample(train.as_matrix(), map(int, label))\n",
    "\n",
    "        # train_x, valid_x, train_y, valid_y = cross_validation.train_test_split(train_res, label_res, test_size=0.33, random_state=42)\n",
    "        # forecast = clf.fit(train_x, train_y).predict(valid_x)\n",
    "        # print 'f1_score', metrics.f1_score(valid_y, forecast)\n",
    "        # print 'accuracy_score', metrics.accuracy_score(valid_y, forecast)\n",
    "        # f1_score 0.653616456536\n",
    "        # accuracy_score 0.629491615651\n",
    "\n",
    "        X = train_res\n",
    "        y = label_res\n",
    "    #     kf = cross_validation.KFold(len(X), n_folds=5)\n",
    "        kf = cross_validation.StratifiedKFold(y, n_folds=10)\n",
    "        # print time.ctime(), '>>', clf.get_params\n",
    "        count_num = 0\n",
    "        forecasts = []\n",
    "        forecasts2 = []\n",
    "        for train_index, test_index in kf:\n",
    "    #         count_num += 1\n",
    "    #         print time.ctime(), '>> '+str(count_num)+' fold ...',\n",
    "\n",
    "            X_train, X_test = X[train_index], X[test_index]\n",
    "            y_train, y_test = y[train_index], y[test_index]\n",
    "            y_train = map(int, y_train)\n",
    "            y_test = map(int, y_test)\n",
    "\n",
    "            forecast = clf.fit(X_train, y_train).predict(X_test)\n",
    "            score = metrics.f1_score(y_test, forecast)\n",
    "            score2 = metrics.accuracy_score(y_test, forecast)\n",
    "            forecasts.append(score)\n",
    "            forecasts2.append(score2)\n",
    "    #         print 'f1_score:', score, 'accuracy_score:',score2\n",
    "        print time.ctime(), '>> cross-validate:', 'f1_score:', np.array(forecasts).mean(), 'accuracy_score:', np.array(forecasts2).mean()\n",
    "    except Exception, e:  \n",
    "        print time.ctime(), Exception, \":\", e"
   ]
  }
 ],
 "metadata": {
  "kernelspec": {
   "display_name": "Python 2",
   "language": "python",
   "name": "python2"
  },
  "language_info": {
   "codemirror_mode": {
    "name": "ipython",
    "version": 2
   },
   "file_extension": ".py",
   "mimetype": "text/x-python",
   "name": "python",
   "nbconvert_exporter": "python",
   "pygments_lexer": "ipython2",
   "version": "2.7.12"
  }
 },
 "nbformat": 4,
 "nbformat_minor": 2
}
